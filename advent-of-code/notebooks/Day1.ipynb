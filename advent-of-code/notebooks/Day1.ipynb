{
 "cells": [
  {
   "cell_type": "code",
   "execution_count": 15,
   "metadata": {},
   "outputs": [],
   "source": [
    "import pandas as pd\n",
    "from streamz import Stream\n",
    "from streamz.dataframe import DataFrame as StreamingDataFrame"
   ]
  },
  {
   "cell_type": "code",
   "execution_count": 21,
   "id": "83ac1291",
   "metadata": {},
   "outputs": [
    {
     "name": "stdout",
     "output_type": "stream",
     "text": [
      "0        122\n",
      "1        129\n",
      "2        116\n",
      "3        122\n",
      "4        135\n",
      "        ... \n",
      "1995    6569\n",
      "1996    6563\n",
      "1997    6591\n",
      "1998    6601\n",
      "1999    6632\n",
      "Name: data, Length: 2000, dtype: int64\n"
     ]
    }
   ],
   "source": [
    "df = pd.read_csv('../data/day1.csv')\n",
    "# stream = Stream()\n",
    "# sdf = StreamingDataFrame(stream, example=df)\n",
    "# sdf.win\n",
    "\n",
    "print(df['data'])"
   ]
  },
  {
   "cell_type": "markdown",
   "id": "b77e4cab",
   "metadata": {},
   "source": []
  }
 ],
 "metadata": {
  "interpreter": {
   "hash": "48a10068ac11604652f4f30f16a4549c237c8be932098c3ba61dc5711f2594eb"
  },
  "kernelspec": {
   "display_name": "Python 3.8.2 64-bit ('advent-of-code-rkB_4Pki-py3.8': venv)",
   "name": "python3"
  },
  "language_info": {
   "codemirror_mode": {
    "name": "ipython",
    "version": 3
   },
   "file_extension": ".py",
   "mimetype": "text/x-python",
   "name": "python",
   "nbconvert_exporter": "python",
   "pygments_lexer": "ipython3",
   "version": "3.8.2"
  }
 },
 "nbformat": 4,
 "nbformat_minor": 5
}

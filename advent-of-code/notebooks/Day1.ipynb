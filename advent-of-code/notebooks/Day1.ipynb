{
 "cells": [
  {
   "cell_type": "code",
   "execution_count": 30,
   "id": "df612fcd",
   "metadata": {},
   "outputs": [],
   "source": [
    "import pandas as pd"
   ]
  },
  {
   "cell_type": "code",
   "execution_count": 31,
   "id": "83ac1291",
   "metadata": {},
   "outputs": [
    {
     "name": "stdout",
     "output_type": "stream",
     "text": [
      "      value  sonar_increase\n",
      "0       122               0\n",
      "1       129               1\n",
      "2       116               1\n",
      "3       122               2\n",
      "4       135               3\n",
      "...     ...             ...\n",
      "1995   6569            1459\n",
      "1996   6563            1459\n",
      "1997   6591            1460\n",
      "1998   6601            1461\n",
      "1999   6632            1462\n",
      "\n",
      "[2000 rows x 2 columns]\n"
     ]
    }
   ],
   "source": [
    "df = pd.read_csv('../data/day1.csv')\n",
    "df['sonar_increase'] = df.transform(lambda x: x > x.shift(1)).cumsum()\n",
    "print(df)"
   ]
  },
  {
   "cell_type": "code",
   "execution_count": 32,
   "id": "9f2cb967",
   "metadata": {},
   "outputs": [
    {
     "name": "stdout",
     "output_type": "stream",
     "text": [
      "      value  sonar_increase  rolling_window  sonar_increase_rolling_window\n",
      "0       122               0             NaN                              0\n",
      "1       129               1             NaN                              0\n",
      "2       116               1           367.0                              0\n",
      "3       122               2           367.0                              0\n",
      "4       135               3           373.0                              1\n",
      "...     ...             ...             ...                            ...\n",
      "1995   6569            1459         19721.0                           1494\n",
      "1996   6563            1459         19696.0                           1494\n",
      "1997   6591            1460         19723.0                           1495\n",
      "1998   6601            1461         19755.0                           1496\n",
      "1999   6632            1462         19824.0                           1497\n",
      "\n",
      "[2000 rows x 4 columns]\n"
     ]
    }
   ],
   "source": [
    "df['rolling_window'] = df['value'].rolling(3).sum()\n",
    "df['sonar_increase_rolling_window'] = df['rolling_window'].transform(lambda x: x > x.shift(1)).cumsum()\n",
    "print(df)"
   ]
  }
 ],
 "metadata": {
  "interpreter": {
   "hash": "48a10068ac11604652f4f30f16a4549c237c8be932098c3ba61dc5711f2594eb"
  },
  "kernelspec": {
   "display_name": "Python 3.8.2 64-bit ('advent-of-code-rkB_4Pki-py3.8': venv)",
   "name": "python3"
  },
  "language_info": {
   "codemirror_mode": {
    "name": "ipython",
    "version": 3
   },
   "file_extension": ".py",
   "mimetype": "text/x-python",
   "name": "python",
   "nbconvert_exporter": "python",
   "pygments_lexer": "ipython3",
   "version": "3.8.2"
  }
 },
 "nbformat": 4,
 "nbformat_minor": 5
}
